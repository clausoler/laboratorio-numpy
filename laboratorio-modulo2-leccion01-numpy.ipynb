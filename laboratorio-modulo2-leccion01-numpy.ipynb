{
 "cells": [
  {
   "cell_type": "markdown",
   "id": "6db588db",
   "metadata": {},
   "source": [
    "<div style=\"text-align: center;\">\n",
    "  <img src=\"https://github.com/Hack-io-Data/Imagenes/blob/main/01-LogosHackio/logo_naranja@4x.png?raw=true\" alt=\"esquema\" />\n",
    "</div>"
   ]
  },
  {
   "cell_type": "code",
   "execution_count": 45,
   "id": "d81c735c",
   "metadata": {},
   "outputs": [],
   "source": [
    "import numpy as np"
   ]
  },
  {
   "cell_type": "markdown",
   "id": "a19d4596",
   "metadata": {},
   "source": [
    "#### Ejercicio 1 - Crea un array de 1D con los números del 0 al 9."
   ]
  },
  {
   "cell_type": "code",
   "execution_count": 46,
   "id": "9d4e1d42",
   "metadata": {},
   "outputs": [
    {
     "name": "stdout",
     "output_type": "stream",
     "text": [
      "El array unidimensional creado a partir del método np.arange(): \n",
      "  [0 1 2 3 4 5 6 7 8 9] \n",
      "\n"
     ]
    }
   ],
   "source": [
    "array_1d = np.arange(10)\n",
    "print(f\"El array unidimensional creado a partir del método np.arange(): \\n  {array_1d} \\n\")"
   ]
  },
  {
   "cell_type": "markdown",
   "id": "f4a41f16",
   "metadata": {},
   "source": [
    "#### Ejercicio 2 - Convierte un array 1D en un array 2D con 2 filas y 5 columnas."
   ]
  },
  {
   "cell_type": "code",
   "execution_count": 47,
   "id": "3d7cef3c",
   "metadata": {},
   "outputs": [
    {
     "name": "stdout",
     "output_type": "stream",
     "text": [
      "El array bidimensional creado a partir del método np.reshape(): \n",
      "  [[0 1 2 3 4]\n",
      " [5 6 7 8 9]] \n",
      "\n"
     ]
    }
   ],
   "source": [
    "array_2d = array_1d.reshape(2, 5)\n",
    "print(f\"El array bidimensional creado a partir del método np.reshape(): \\n  {array_2d} \\n\")"
   ]
  },
  {
   "cell_type": "markdown",
   "id": "86bb8999",
   "metadata": {},
   "source": [
    "#### Ejercicio 3 - Encuentra los índices de los elementos con valor distinto de 0 en el siguiente array: [0, 2, 0, 3, 0, 4, 0]."
   ]
  },
  {
   "cell_type": "code",
   "execution_count": 48,
   "id": "d1fcfca4",
   "metadata": {},
   "outputs": [
    {
     "name": "stdout",
     "output_type": "stream",
     "text": [
      "Los índices con valor distinto a 0 son: \n",
      "  (array([1, 3, 5]),) \n",
      "\n"
     ]
    }
   ],
   "source": [
    "# Ejemplo\n",
    "array = np.array([0, 2, 0, 3, 0, 4, 0])\n",
    "\n",
    "# Encontrar índices de elementos con valor distinto de 0\n",
    "indices_no_cero = np.nonzero(array)\n",
    "print(f\"Los índices con valor distinto a 0 son: \\n  {indices_no_cero} \\n\")\n"
   ]
  },
  {
   "cell_type": "markdown",
   "id": "1c548419",
   "metadata": {},
   "source": [
    "#### Ejercicio 4 - Crea un array 3x3 con valores aleatorios entre 0 y 1."
   ]
  },
  {
   "cell_type": "code",
   "execution_count": 49,
   "id": "e1d4f19f",
   "metadata": {},
   "outputs": [
    {
     "name": "stdout",
     "output_type": "stream",
     "text": [
      "El array 3x3 con valores aleatorios entre 0 y 1 es : \n",
      "  [[0.04739777 0.4855401  0.86657653]\n",
      " [0.59168347 0.37830777 0.84061728]\n",
      " [0.87010475 0.32020629 0.56513552]] \n",
      "\n"
     ]
    }
   ],
   "source": [
    "array_3x3_random = np.random.rand(3, 3)\n",
    "print(f\"El array 3x3 con valores aleatorios entre 0 y 1 es : \\n  {array_3x3_random} \\n\")"
   ]
  },
  {
   "cell_type": "markdown",
   "id": "aee82811",
   "metadata": {},
   "source": [
    "#### Ejercicio 5 - Crea un array de 10 números aleatorios y encuentra el valor máximo y mínimo."
   ]
  },
  {
   "cell_type": "code",
   "execution_count": 54,
   "id": "81fea76e",
   "metadata": {},
   "outputs": [
    {
     "name": "stdout",
     "output_type": "stream",
     "text": [
      "El array de 10 números aleatorios es \n",
      " [0.36995716 0.80521258 0.71253883 0.82820612 0.94371159 0.27164952\n",
      " 0.68582922 0.14163922 0.8434908  0.84228419]\n",
      "El valor máximo del array es 0.9437115927342232\n",
      "El valor mínimo del array es 0.1416392232348791\n"
     ]
    }
   ],
   "source": [
    "# Crear un array de 10 números aleatorios\n",
    "array_random = np.random.rand(10)\n",
    "\n",
    "# Encontrar el valor máximo y mínimo\n",
    "valor_maximo = np.max(array_random)\n",
    "valor_minimo = np.min(array_random)\n",
    "\n",
    "print(f\"El array de 10 números aleatorios es \\n {array_random}\")\n",
    "print(f\"El valor máximo del array es {valor_maximo}\")\n",
    "print(f\"El valor mínimo del array es {valor_minimo}\")"
   ]
  },
  {
   "cell_type": "markdown",
   "id": "6559375b",
   "metadata": {},
   "source": [
    "#### Ejercicio 6 - Crea un array de una dimensión e inviértelo. "
   ]
  },
  {
   "cell_type": "code",
   "execution_count": 55,
   "id": "31385db0",
   "metadata": {},
   "outputs": [
    {
     "name": "stdout",
     "output_type": "stream",
     "text": [
      "El array_1d invertido es : \n",
      "  [10  9  8  7  6  5  4  3  2  1] \n",
      "\n"
     ]
    }
   ],
   "source": [
    "# Crear un array de una dimensión\n",
    "array_1d = np.array([1, 2, 3, 4, 5, 6, 7, 8, 9, 10])\n",
    "\n",
    "# Invertir el array\n",
    "array_invertido = array_1d[::-1]\n",
    "print(f\"El array_1d invertido es : \\n  {array_invertido} \\n\")"
   ]
  },
  {
   "cell_type": "markdown",
   "id": "4457f046",
   "metadata": {},
   "source": [
    "\n",
    "#### Ejercicio 7 - Genera un array tridimensional de dimensiones (2, 3, 4) con valores enteros del 1 al 24.\n",
    "\n",
    "- Selecciona el primer `15` del array.\n",
    "\n",
    "- Selecciona todos los elementos del primer array. \n",
    "\n",
    "- Selecciona la última fila del último array\n"
   ]
  },
  {
   "cell_type": "code",
   "execution_count": 56,
   "id": "3cab04c9",
   "metadata": {},
   "outputs": [
    {
     "data": {
      "text/plain": [
       "array([[[ 1,  2,  3,  4],\n",
       "        [ 5,  6,  7,  8],\n",
       "        [ 9, 10, 11, 12]],\n",
       "\n",
       "       [[13, 14, 15, 16],\n",
       "        [17, 18, 19, 20],\n",
       "        [21, 22, 23, 24]]])"
      ]
     },
     "execution_count": 56,
     "metadata": {},
     "output_type": "execute_result"
    }
   ],
   "source": [
    "array_3d = np.arange(1, 25).reshape(2, 3, 4)\n",
    "array_3d"
   ]
  },
  {
   "cell_type": "code",
   "execution_count": 57,
   "id": "aacd95e5",
   "metadata": {},
   "outputs": [
    {
     "data": {
      "text/plain": [
       "array([1, 0, 2])"
      ]
     },
     "execution_count": 57,
     "metadata": {},
     "output_type": "execute_result"
    }
   ],
   "source": [
    "# Seleccionar el primer valor igual a 15 en el array\n",
    "index_15 = np.argwhere(array_3d == 15)[0]\n",
    "index_15"
   ]
  },
  {
   "cell_type": "code",
   "execution_count": 58,
   "id": "6e7f6c8c",
   "metadata": {},
   "outputs": [
    {
     "data": {
      "text/plain": [
       "array([[ 1,  2,  3,  4],\n",
       "       [ 5,  6,  7,  8],\n",
       "       [ 9, 10, 11, 12]])"
      ]
     },
     "execution_count": 58,
     "metadata": {},
     "output_type": "execute_result"
    }
   ],
   "source": [
    "# Seleccionar todos los elementos del primer array\n",
    "primer_array = array_3d[0]\n",
    "primer_array"
   ]
  },
  {
   "cell_type": "code",
   "execution_count": 59,
   "id": "0cf89ad8",
   "metadata": {},
   "outputs": [
    {
     "data": {
      "text/plain": [
       "array([21, 22, 23, 24])"
      ]
     },
     "execution_count": 59,
     "metadata": {},
     "output_type": "execute_result"
    }
   ],
   "source": [
    "# Seleccionar la última fila del último array\n",
    "ultima_fila_array_3d = array_3d[-1, -1]\n",
    "ultima_fila_array_3d"
   ]
  },
  {
   "cell_type": "markdown",
   "id": "681b7e4e",
   "metadata": {},
   "source": [
    "\n",
    "#### Ejercicio 8 - Genera un array tridimensional de dimensiones (3, 2, 5) con valores enteros del 1 al 30.\n",
    "\n",
    "- Selecciona el subarray que contiene los dos primeros elementos de cada fila del primer array.\n",
    "\n",
    "- Selecciona el subarray que contiene todas las filas de los dos últimos arrays.\n"
   ]
  },
  {
   "cell_type": "code",
   "execution_count": 60,
   "id": "b008a9aa",
   "metadata": {},
   "outputs": [
    {
     "data": {
      "text/plain": [
       "array([[[ 1,  2,  3,  4,  5],\n",
       "        [ 6,  7,  8,  9, 10]],\n",
       "\n",
       "       [[11, 12, 13, 14, 15],\n",
       "        [16, 17, 18, 19, 20]],\n",
       "\n",
       "       [[21, 22, 23, 24, 25],\n",
       "        [26, 27, 28, 29, 30]]])"
      ]
     },
     "execution_count": 60,
     "metadata": {},
     "output_type": "execute_result"
    }
   ],
   "source": [
    "array_3d_v2 = np.arange(1, 31).reshape(3, 2, 5)\n",
    "array_3d_v2"
   ]
  },
  {
   "cell_type": "code",
   "execution_count": 61,
   "id": "e75afca9",
   "metadata": {},
   "outputs": [
    {
     "data": {
      "text/plain": [
       "array([[1, 2],\n",
       "       [6, 7]])"
      ]
     },
     "execution_count": 61,
     "metadata": {},
     "output_type": "execute_result"
    }
   ],
   "source": [
    "# Seleccionar el subarray que contiene los dos primeros elementos de cada fila del primer array\n",
    "subarray = array_3d_v2[0, :, :2]\n",
    "subarray"
   ]
  },
  {
   "cell_type": "code",
   "execution_count": 62,
   "id": "9e2a2582",
   "metadata": {},
   "outputs": [
    {
     "data": {
      "text/plain": [
       "array([[[11, 12, 13, 14, 15],\n",
       "        [16, 17, 18, 19, 20]],\n",
       "\n",
       "       [[21, 22, 23, 24, 25],\n",
       "        [26, 27, 28, 29, 30]]])"
      ]
     },
     "execution_count": 62,
     "metadata": {},
     "output_type": "execute_result"
    }
   ],
   "source": [
    "# Seleccionar el subarray que contiene todas las filas de los dos últimos arrays\n",
    "subarray_dos_ultimos = array_3d_v2[1:, :, :]\n",
    "subarray_dos_ultimos"
   ]
  },
  {
   "cell_type": "markdown",
   "id": "4fabd9d0",
   "metadata": {},
   "source": [
    "#### Ejercicio 9 - Genera un array tridimensional de dimensiones (4, 3, 2) con valores enteros del 1 al 24.\n",
    "\n",
    "- Cambia todos los elementos de la segunda fila del segundo array por `0`.\n",
    "\n",
    "- Cambia todos los valores del último array a `-1`.\n"
   ]
  },
  {
   "cell_type": "code",
   "execution_count": 63,
   "id": "0ef45b69",
   "metadata": {},
   "outputs": [
    {
     "data": {
      "text/plain": [
       "array([[[ 1,  2],\n",
       "        [ 3,  4],\n",
       "        [ 5,  6]],\n",
       "\n",
       "       [[ 7,  8],\n",
       "        [ 9, 10],\n",
       "        [11, 12]],\n",
       "\n",
       "       [[13, 14],\n",
       "        [15, 16],\n",
       "        [17, 18]],\n",
       "\n",
       "       [[19, 20],\n",
       "        [21, 22],\n",
       "        [23, 24]]])"
      ]
     },
     "execution_count": 63,
     "metadata": {},
     "output_type": "execute_result"
    }
   ],
   "source": [
    "array_3d_v3 = np.arange(1, 25).reshape(4, 3, 2)\n",
    "array_3d_v3"
   ]
  },
  {
   "cell_type": "code",
   "execution_count": 64,
   "id": "97cd9ae6",
   "metadata": {},
   "outputs": [
    {
     "data": {
      "text/plain": [
       "array([[[ 1,  2],\n",
       "        [ 3,  4],\n",
       "        [ 5,  6]],\n",
       "\n",
       "       [[ 7,  8],\n",
       "        [ 0,  0],\n",
       "        [11, 12]],\n",
       "\n",
       "       [[13, 14],\n",
       "        [15, 16],\n",
       "        [17, 18]],\n",
       "\n",
       "       [[19, 20],\n",
       "        [21, 22],\n",
       "        [23, 24]]])"
      ]
     },
     "execution_count": 64,
     "metadata": {},
     "output_type": "execute_result"
    }
   ],
   "source": [
    "# Cambiar todos los elementos de la segunda fila del segundo array por 0\n",
    "array_3d_v3[1, 1, :] = 0\n",
    "array_3d_v3"
   ]
  },
  {
   "cell_type": "code",
   "execution_count": 65,
   "id": "fc3f8ed3",
   "metadata": {},
   "outputs": [
    {
     "data": {
      "text/plain": [
       "array([[[ 1,  2],\n",
       "        [ 3,  4],\n",
       "        [ 5,  6]],\n",
       "\n",
       "       [[ 7,  8],\n",
       "        [ 0,  0],\n",
       "        [11, 12]],\n",
       "\n",
       "       [[13, 14],\n",
       "        [15, 16],\n",
       "        [17, 18]],\n",
       "\n",
       "       [[-1, -1],\n",
       "        [-1, -1],\n",
       "        [-1, -1]]])"
      ]
     },
     "execution_count": 65,
     "metadata": {},
     "output_type": "execute_result"
    }
   ],
   "source": [
    "# Cambiar todos los valores del último array a -1\n",
    "array_3d_v3[-1, :, :] = -1\n",
    "array_3d_v3"
   ]
  },
  {
   "cell_type": "markdown",
   "id": "c60bc3bb",
   "metadata": {},
   "source": [
    "\n",
    "#### Ejercicio 10 - Genera un array tridimensional de dimensiones (2, 4, 3) con valores enteros del -10 al 13.\n",
    "\n",
    "- Selecciona todos los elementos mayores a `5`.\n",
    "\n",
    "- Reemplaza todos los elementos negativos por `0`.\n"
   ]
  },
  {
   "cell_type": "code",
   "execution_count": 66,
   "id": "28bf9232",
   "metadata": {},
   "outputs": [
    {
     "data": {
      "text/plain": [
       "array([[[-10,  -9,  -8],\n",
       "        [ -7,  -6,  -5],\n",
       "        [ -4,  -3,  -2],\n",
       "        [ -1,   0,   1]],\n",
       "\n",
       "       [[  2,   3,   4],\n",
       "        [  5,   6,   7],\n",
       "        [  8,   9,  10],\n",
       "        [ 11,  12,  13]]])"
      ]
     },
     "execution_count": 66,
     "metadata": {},
     "output_type": "execute_result"
    }
   ],
   "source": [
    "array_3d_range = np.arange(-10, 14).reshape(2, 4, 3)\n",
    "array_3d_range"
   ]
  },
  {
   "cell_type": "code",
   "execution_count": 67,
   "id": "96045bb5",
   "metadata": {},
   "outputs": [
    {
     "data": {
      "text/plain": [
       "array([ 6,  7,  8,  9, 10, 11, 12, 13])"
      ]
     },
     "execution_count": 67,
     "metadata": {},
     "output_type": "execute_result"
    }
   ],
   "source": [
    "# Seleccionar todos los elementos mayores a 5\n",
    "elementos_mayores_5 = array_3d_range[array_3d_range > 5]\n",
    "elementos_mayores_5"
   ]
  },
  {
   "cell_type": "code",
   "execution_count": 68,
   "id": "87f66f96",
   "metadata": {},
   "outputs": [
    {
     "data": {
      "text/plain": [
       "array([[[ 0,  0,  0],\n",
       "        [ 0,  0,  0],\n",
       "        [ 0,  0,  0],\n",
       "        [ 0,  0,  1]],\n",
       "\n",
       "       [[ 2,  3,  4],\n",
       "        [ 5,  6,  7],\n",
       "        [ 8,  9, 10],\n",
       "        [11, 12, 13]]])"
      ]
     },
     "execution_count": 68,
     "metadata": {},
     "output_type": "execute_result"
    }
   ],
   "source": [
    "# Reemplazar todos los elementos negativos por 0\n",
    "array_3d_range[array_3d_range < 0] = 0\n",
    "array_3d_range"
   ]
  },
  {
   "cell_type": "markdown",
   "id": "ab38a3be",
   "metadata": {},
   "source": [
    "#### Ejercicio 11 - Genera un array tridimensional de dimensiones (3, 3, 3) con valores enteros del 1 al 27.\n",
    "\n",
    "- Selecciona el subarray del segundo array que contenga solo las dos primeras columnas.\n",
    "\n",
    "- Selecciona todos los elementos del tercer array que sean mayores que `20`.\n"
   ]
  },
  {
   "cell_type": "code",
   "execution_count": 69,
   "id": "78c979cf",
   "metadata": {},
   "outputs": [
    {
     "data": {
      "text/plain": [
       "array([[[ 1,  2,  3],\n",
       "        [ 4,  5,  6],\n",
       "        [ 7,  8,  9]],\n",
       "\n",
       "       [[10, 11, 12],\n",
       "        [13, 14, 15],\n",
       "        [16, 17, 18]],\n",
       "\n",
       "       [[19, 20, 21],\n",
       "        [22, 23, 24],\n",
       "        [25, 26, 27]]])"
      ]
     },
     "execution_count": 69,
     "metadata": {},
     "output_type": "execute_result"
    }
   ],
   "source": [
    "array_3d_new = np.arange(1, 28).reshape(3, 3, 3)\n",
    "array_3d_new"
   ]
  },
  {
   "cell_type": "code",
   "execution_count": 70,
   "id": "b8343f44",
   "metadata": {},
   "outputs": [
    {
     "data": {
      "text/plain": [
       "array([[10, 11],\n",
       "       [13, 14],\n",
       "       [16, 17]])"
      ]
     },
     "execution_count": 70,
     "metadata": {},
     "output_type": "execute_result"
    }
   ],
   "source": [
    "# Seleccionar el subarray del segundo array que contenga solo las dos primeras columnas\n",
    "subarray_segundo_array = array_3d_new[1, :, :2]\n",
    "subarray_segundo_array"
   ]
  },
  {
   "cell_type": "code",
   "execution_count": 71,
   "id": "06ce0979",
   "metadata": {},
   "outputs": [
    {
     "data": {
      "text/plain": [
       "array([21, 22, 23, 24, 25, 26, 27])"
      ]
     },
     "execution_count": 71,
     "metadata": {},
     "output_type": "execute_result"
    }
   ],
   "source": [
    "# Seleccionar todos los elementos del tercer array que sean mayores que 20\n",
    "elementos_mayores_20_tercer_array = array_3d_new[2, :, :][array_3d_new[2, :, :] > 20]\n",
    "elementos_mayores_20_tercer_array"
   ]
  },
  {
   "cell_type": "markdown",
   "id": "f1a00156",
   "metadata": {},
   "source": [
    "#### Ejercicio 12 - Crea un array de 10 números aleatorios y reemplaza los valores máximos y mínimos por 0."
   ]
  },
  {
   "cell_type": "code",
   "execution_count": 78,
   "id": "990fa526",
   "metadata": {},
   "outputs": [
    {
     "name": "stdout",
     "output_type": "stream",
     "text": [
      "El array de 10 números aleatorios es:\n",
      "[0.56981536 0.01326348 0.21183895 0.4307123  0.         0.28456385\n",
      " 0.40437364 0.12985388 0.5714909  0.57531428]\n"
     ]
    }
   ],
   "source": [
    "# Crear un array de 10 números aleatorios\n",
    "array_random = np.random.rand(10)\n",
    "\n",
    "# Reemplazar los valores máximos y mínimos por 0\n",
    "array_random[array_random == np.max(array_random)] = 0\n",
    "array_random[array_random == np.min(array_random)] = 0\n",
    "print(f\"El array de 10 números aleatorios es:\\n{array_random}\")"
   ]
  },
  {
   "cell_type": "markdown",
   "id": "781fafd0",
   "metadata": {},
   "source": [
    "#### Ejercicio 13 - Genera un array de 15 números aleatorios enteros entre 1 y 100 y reordénalo en orden ascendente."
   ]
  },
  {
   "cell_type": "code",
   "execution_count": 82,
   "id": "caa4fd47",
   "metadata": {},
   "outputs": [
    {
     "name": "stdout",
     "output_type": "stream",
     "text": [
      "El array de 15 números aleatorios es: [47 48  8  8 43 53 81 60 35 66 69 52 55 73 55]\n",
      "El array ordenado es: [ 8  8 35 43 47 48 52 53 55 55 60 66 69 73 81]\n"
     ]
    }
   ],
   "source": [
    "# Generar un array de 15 números aleatorios enteros entre 1 y 100\n",
    "array_random_integers = np.random.randint(1, 101, 15)\n",
    "\n",
    "# Reordenar el array en orden ascendente\n",
    "array_ordenado = np.sort(array_random_integers)\n",
    " \n",
    "print(f\"El array de 15 números aleatorios es: {array_random_integers}\")\n",
    "print(f\"El array ordenado es: {array_ordenado}\")"
   ]
  },
  {
   "cell_type": "markdown",
   "id": "45f10c3e",
   "metadata": {},
   "source": [
    "#### Ejercicio 14 - Calcula la suma de los elementos a lo largo de las filas y columnas en una matriz 4x4."
   ]
  },
  {
   "cell_type": "code",
   "execution_count": 84,
   "id": "90220788",
   "metadata": {},
   "outputs": [
    {
     "name": "stdout",
     "output_type": "stream",
     "text": [
      "La matriz 4x4 es: \n",
      " [[ 4  5  3  6]\n",
      " [ 9  5  9  6]\n",
      " [10  1  4  1]\n",
      " [ 1  5  9  9]]\n",
      "La suma de los elementos a lo largo de las filas es [18 29 16 24]\n",
      "La suma de los elementos a lo largo de las columnas es [24 16 25 22]\n"
     ]
    }
   ],
   "source": [
    "# Crear una matriz 4x4 de valores aleatorios enteros entre 1 y 10\n",
    "matriz_4x4 = np.random.randint(1, 11, (4, 4))\n",
    "\n",
    "# Calcular la suma de los elementos a lo largo de las filas y columnas\n",
    "suma_filas = np.sum(matriz_4x4, axis=1)\n",
    "suma_columnas = np.sum(matriz_4x4, axis=0)\n",
    "\n",
    "print(f\"La matriz 4x4 es: \\n {matriz_4x4}\")\n",
    "print(f\"La suma de los elementos a lo largo de las filas es {suma_filas}\")\n",
    "print(f\"La suma de los elementos a lo largo de las columnas es {suma_columnas}\")"
   ]
  },
  {
   "cell_type": "markdown",
   "id": "69b9751a",
   "metadata": {},
   "source": [
    "#### Ejercicio 15 - Crea una matriz de 5x5 con valores en el borde igual a 1 y en el interior igual a 0."
   ]
  },
  {
   "cell_type": "code",
   "execution_count": 85,
   "id": "eca81323",
   "metadata": {},
   "outputs": [
    {
     "data": {
      "text/plain": [
       "array([[1, 1, 1, 1, 1],\n",
       "       [1, 0, 0, 0, 1],\n",
       "       [1, 0, 0, 0, 1],\n",
       "       [1, 0, 0, 0, 1],\n",
       "       [1, 1, 1, 1, 1]])"
      ]
     },
     "execution_count": 85,
     "metadata": {},
     "output_type": "execute_result"
    }
   ],
   "source": [
    "# Crear una matriz de 5x5 con valores en el borde igual a 1 y en el interior igual a 0\n",
    "matriz_5x5 = np.ones((5, 5), dtype=int)\n",
    "matriz_5x5[1:-1, 1:-1] = 0\n",
    "matriz_5x5"
   ]
  },
  {
   "cell_type": "markdown",
   "id": "1ea8068d",
   "metadata": {},
   "source": [
    "#### Ejercicio 16 - Calcula la media y la desviación estándar de un array de 10 números aleatorios."
   ]
  },
  {
   "cell_type": "code",
   "execution_count": 86,
   "id": "05dd579d",
   "metadata": {},
   "outputs": [
    {
     "name": "stdout",
     "output_type": "stream",
     "text": [
      "El array de 10 númetos aleatorios es [0.87555295 0.30602645 0.98021288 0.83073308 0.83128942 0.89510668\n",
      " 0.42368042 0.054355   0.52303788 0.15598608]\n",
      "La media del array de 1o números aleatorios es 0.5875980838898383\n",
      "La desviación estándar del array de 10 números aleatorios es 0.32110476777428276\n"
     ]
    }
   ],
   "source": [
    "# Crear un array de 10 números aleatorios\n",
    "array_aleatorio = np.random.rand(10)\n",
    "\n",
    "# Calcular la media y la desviación estándar\n",
    "media = np.mean(array_aleatorio)\n",
    "desviacion_estandar = np.std(array_aleatorio)\n",
    "\n",
    "print(f\"El array de 10 númetos aleatorios es {array_aleatorio}\")\n",
    "print(f\"La media del array de 1o números aleatorios es {media}\")\n",
    "print(f\"La desviación estándar del array de 10 números aleatorios es {desviacion_estandar}\")"
   ]
  },
  {
   "cell_type": "markdown",
   "id": "6add6669",
   "metadata": {},
   "source": [
    "#### Ejercicio 17 - Genera un array tridimensional de dimensiones (2, 3, 4) con valores enteros del 1 al 24.\n",
    "\n",
    "- Transpón el array para intercambiar los ejes de la forma (2, 3, 4) a (4, 3, 2).\n",
    "\n",
    "- Observa cómo cambian las posiciones de los elementos y sus índices después de la transposición. Explica en una celda de markdown que es lo que ha pasado. \n"
   ]
  },
  {
   "cell_type": "code",
   "execution_count": 87,
   "id": "ae98aca5",
   "metadata": {},
   "outputs": [
    {
     "data": {
      "text/plain": [
       "array([[[ 1,  2,  3,  4],\n",
       "        [ 5,  6,  7,  8],\n",
       "        [ 9, 10, 11, 12]],\n",
       "\n",
       "       [[13, 14, 15, 16],\n",
       "        [17, 18, 19, 20],\n",
       "        [21, 22, 23, 24]]])"
      ]
     },
     "execution_count": 87,
     "metadata": {},
     "output_type": "execute_result"
    }
   ],
   "source": [
    "# Generar un array tridimensional de dimensiones (2, 3, 4) con valores enteros del 1 al 24\n",
    "array_3d_v4 = np.arange(1, 25).reshape(2, 3, 4)\n",
    "array_3d_v4"
   ]
  },
  {
   "cell_type": "code",
   "execution_count": 88,
   "id": "e3598b59",
   "metadata": {},
   "outputs": [
    {
     "data": {
      "text/plain": [
       "array([[[ 1, 13],\n",
       "        [ 5, 17],\n",
       "        [ 9, 21]],\n",
       "\n",
       "       [[ 2, 14],\n",
       "        [ 6, 18],\n",
       "        [10, 22]],\n",
       "\n",
       "       [[ 3, 15],\n",
       "        [ 7, 19],\n",
       "        [11, 23]],\n",
       "\n",
       "       [[ 4, 16],\n",
       "        [ 8, 20],\n",
       "        [12, 24]]])"
      ]
     },
     "execution_count": 88,
     "metadata": {},
     "output_type": "execute_result"
    }
   ],
   "source": [
    "# Transponer el array para intercambiar los ejes a la forma (4, 3, 2)\n",
    "array_transpuesto = np.transpose(array_3d_v4, axes=(2, 1, 0))\n",
    "array_transpuesto"
   ]
  },
  {
   "cell_type": "markdown",
   "id": "da78ad80",
   "metadata": {},
   "source": [
    "Lo que ha ocurrido es que los índices de los elementos han cambiado de acuerdo con el reordenamiento de los ejes. Par que se entienda mejor:\n",
    " \n",
    "1. Forma original del array (2, 3, 4)\n",
    "   - El índice 0 hace referencia al número de subarrays o matrices\n",
    "   - El índice 1 hace referencia a las filas\n",
    "   - El índice 2 hace referencia a las columnas\n",
    "    \n",
    "2. Tranposición (4, 3, 2)\n",
    "   - Las columnas se convierten en el índice 0, por lo que ahora van a indicar el número de subarrays o matrices que hay\n",
    "   - Las filas se queden en el índice 1, por tanto no cambian\n",
    "   - El número de subarrays o matrices se convierte en el índice 2, y ahora va a referenciar las columnas\n",
    "    \n",
    "En resumen, lo que ocurre es lo siguiente:\n",
    "- La columna pasa a ser capa (nº subarrays o matrices)\n",
    "- La fila se mantiene\n",
    "- La capa (nº subarrays o matrices) pasa a ser columna "
   ]
  },
  {
   "cell_type": "markdown",
   "id": "1e32b5e6",
   "metadata": {},
   "source": [
    "#### Ejercicio 18 - Genera un array tridimensional de dimensiones (3, 4, 2) con valores enteros del 1 al 24.\n",
    "\n",
    "- Transpón el array para intercambiar el primer y segundo eje, de manera que la nueva forma del array sea (4, 3, 2).\n"
   ]
  },
  {
   "cell_type": "code",
   "execution_count": 89,
   "id": "0146fdd6",
   "metadata": {},
   "outputs": [
    {
     "data": {
      "text/plain": [
       "array([[[ 1,  2],\n",
       "        [ 3,  4],\n",
       "        [ 5,  6],\n",
       "        [ 7,  8]],\n",
       "\n",
       "       [[ 9, 10],\n",
       "        [11, 12],\n",
       "        [13, 14],\n",
       "        [15, 16]],\n",
       "\n",
       "       [[17, 18],\n",
       "        [19, 20],\n",
       "        [21, 22],\n",
       "        [23, 24]]])"
      ]
     },
     "execution_count": 89,
     "metadata": {},
     "output_type": "execute_result"
    }
   ],
   "source": [
    "array_3d_v5 = np.arange(1, 25).reshape(3, 4, 2)\n",
    "array_3d_v5"
   ]
  },
  {
   "cell_type": "code",
   "execution_count": 90,
   "id": "d258b444",
   "metadata": {},
   "outputs": [
    {
     "data": {
      "text/plain": [
       "array([[[ 1,  2,  3],\n",
       "        [10, 11, 12],\n",
       "        [19, 20, 21]],\n",
       "\n",
       "       [[ 4,  5,  6],\n",
       "        [13, 14, 15],\n",
       "        [22, 23, 24]],\n",
       "\n",
       "       [[ 7,  8,  9],\n",
       "        [16, 17, 18],\n",
       "        [25, 26, 27]]])"
      ]
     },
     "execution_count": 90,
     "metadata": {},
     "output_type": "execute_result"
    }
   ],
   "source": [
    "# Transponer el array para intercambiar el primer y segundo eje\n",
    "array_transpuesto_nuevo = np.transpose(array_3d_new, axes=(1, 0, 2))\n",
    "array_transpuesto_nuevo"
   ]
  },
  {
   "cell_type": "markdown",
   "id": "fcf92586",
   "metadata": {},
   "source": [
    "#### Ejercicio 19 - Genera un array tridimensional de dimensiones (3, 2, 4) con valores enteros del 1 al 24.\n",
    "\n",
    "- Realiza una rotación completa de los ejes para convertir la forma original (3, 2, 4) en (4, 3, 2).\n"
   ]
  },
  {
   "cell_type": "code",
   "execution_count": 91,
   "id": "dd2c7f27",
   "metadata": {},
   "outputs": [
    {
     "data": {
      "text/plain": [
       "array([[[ 1,  2,  3,  4],\n",
       "        [ 5,  6,  7,  8]],\n",
       "\n",
       "       [[ 9, 10, 11, 12],\n",
       "        [13, 14, 15, 16]],\n",
       "\n",
       "       [[17, 18, 19, 20],\n",
       "        [21, 22, 23, 24]]])"
      ]
     },
     "execution_count": 91,
     "metadata": {},
     "output_type": "execute_result"
    }
   ],
   "source": [
    "array_3d_v6 = np.arange(1, 25).reshape(3, 2, 4)\n",
    "array_3d_v6"
   ]
  },
  {
   "cell_type": "code",
   "execution_count": 92,
   "id": "d3c0749b",
   "metadata": {},
   "outputs": [
    {
     "data": {
      "text/plain": [
       "array([[[ 1,  5],\n",
       "        [ 9, 13],\n",
       "        [17, 21]],\n",
       "\n",
       "       [[ 2,  6],\n",
       "        [10, 14],\n",
       "        [18, 22]],\n",
       "\n",
       "       [[ 3,  7],\n",
       "        [11, 15],\n",
       "        [19, 23]],\n",
       "\n",
       "       [[ 4,  8],\n",
       "        [12, 16],\n",
       "        [20, 24]]])"
      ]
     },
     "execution_count": 92,
     "metadata": {},
     "output_type": "execute_result"
    }
   ],
   "source": [
    "# Realizar una rotación completa de los ejes para convertir la forma (3, 2, 4) en (4, 3, 2)\n",
    "array_rotado = np.transpose(array_3d_v6, axes=(2, 0, 1))\n",
    "array_rotado"
   ]
  },
  {
   "cell_type": "markdown",
   "id": "1795e11f",
   "metadata": {},
   "source": [
    "#### Ejercicio 20 - Manipulación de Arrays en 3D\n",
    "\n",
    "- Crea un array tridimensional con dimensiones (3, 4, 5) cuyos elementos sean números enteros aleatorios entre -10 y 10.\n",
    "\n",
    "- Crea un array vacío con la misma forma y dimensiones que el array creado anteriormente. Luego, reemplaza los valores de la matriz vacía basada en los valores del primer array bajo las siguientes condiciones:\n",
    "\n",
    "   - Si el valor es igual a la mediana, se reemplaza por `\"M\"`.\n",
    "\n",
    "   - Si el valor es mayor que la mediana, se reemplaza por `\"X\"`.\n",
    "\n",
    "   - Si el valor es menor que la mediana, se reemplaza por `\"Y\"`.\n",
    "\n",
    "   - Si el valor es igual al máximo, se reemplaza por `\"MAX\"`.\n",
    "\n",
    "   - Si el valor es igual al mínimo, se reemplaza por `\"MIN\"`.\n"
   ]
  },
  {
   "cell_type": "code",
   "execution_count": 93,
   "id": "d309b397",
   "metadata": {},
   "outputs": [
    {
     "data": {
      "text/plain": [
       "array([[[  9,  -8,   8,   9,   2],\n",
       "        [ -8,   0,   5,   3,  -6],\n",
       "        [ 10,   4,  -3,   9,   8],\n",
       "        [ -5,  -3,   9,   7,   5]],\n",
       "\n",
       "       [[ -1,  -4, -10,   4, -10],\n",
       "        [  7, -10,  -9,  -9,   2],\n",
       "        [ -5,   8,   4,   5,  -5],\n",
       "        [ -6,   8,  -4,   5,   4]],\n",
       "\n",
       "       [[  8,  -8, -10,  -4,  -8],\n",
       "        [ 10,  -4,  -5,  -6,   8],\n",
       "        [ -2,   3,  -2,   6,   9],\n",
       "        [ -3,  -3,  10,  10,   6]]], dtype=int32)"
      ]
     },
     "execution_count": 93,
     "metadata": {},
     "output_type": "execute_result"
    }
   ],
   "source": [
    "# Crear un array tridimensional de dimensiones (3, 4, 5) con valores enteros aleatorios entre -10 y 10\n",
    "array_random_3d = np.random.randint(-10, 11, (3, 4, 5))\n",
    "array_random_3d"
   ]
  },
  {
   "cell_type": "code",
   "execution_count": 94,
   "id": "31c9889f",
   "metadata": {},
   "outputs": [
    {
     "name": "stdout",
     "output_type": "stream",
     "text": [
      "El array tridimensional es [[[  9  -8   8   9   2]\n",
      "  [ -8   0   5   3  -6]\n",
      "  [ 10   4  -3   9   8]\n",
      "  [ -5  -3   9   7   5]]\n",
      "\n",
      " [[ -1  -4 -10   4 -10]\n",
      "  [  7 -10  -9  -9   2]\n",
      "  [ -5   8   4   5  -5]\n",
      "  [ -6   8  -4   5   4]]\n",
      "\n",
      " [[  8  -8 -10  -4  -8]\n",
      "  [ 10  -4  -5  -6   8]\n",
      "  [ -2   3  -2   6   9]\n",
      "  [ -3  -3  10  10   6]]]\n",
      "La mediana del array tridimensional es 2.0\n",
      "El máximo del array tridimensional es 10\n",
      "El mínimo del array tridimensionalk es -10\n",
      "El resultado del array vacío es [[['X' 'Y' 'X' 'X' 'M']\n",
      "  ['Y' 'Y' 'X' 'X' 'Y']\n",
      "  ['MAX' 'X' 'Y' 'X' 'X']\n",
      "  ['Y' 'Y' 'X' 'X' 'X']]\n",
      "\n",
      " [['Y' 'Y' 'MIN' 'X' 'MIN']\n",
      "  ['X' 'MIN' 'Y' 'Y' 'M']\n",
      "  ['Y' 'X' 'X' 'X' 'Y']\n",
      "  ['Y' 'X' 'Y' 'X' 'X']]\n",
      "\n",
      " [['X' 'Y' 'MIN' 'Y' 'Y']\n",
      "  ['MAX' 'Y' 'Y' 'Y' 'X']\n",
      "  ['Y' 'X' 'Y' 'X' 'X']\n",
      "  ['Y' 'Y' 'MAX' 'MAX' 'X']]]\n"
     ]
    }
   ],
   "source": [
    "# Crear un array vacío con la misma forma y dimensiones que el array original\n",
    "array_resultado = np.empty_like(array_random_3d, dtype=object)\n",
    "\n",
    "# Calcular la mediana, el máximo y el mínimo del array original\n",
    "mediana = np.median(array_random_3d)\n",
    "maximo = np.max(array_random_3d)\n",
    "minimo = np.min(array_random_3d)\n",
    "\n",
    "# Reemplazar los valores en el array vacío según las condiciones\n",
    "for index, value in np.ndenumerate(array_random_3d):\n",
    "    if value == mediana:\n",
    "        array_resultado[index] = \"M\"\n",
    "    elif value > mediana:\n",
    "        array_resultado[index] = \"X\"\n",
    "    elif value < mediana:\n",
    "        array_resultado[index] = \"Y\"\n",
    "    if value == maximo:\n",
    "        array_resultado[index] = \"MAX\"\n",
    "    if value == minimo:\n",
    "        array_resultado[index] = \"MIN\"\n",
    "\n",
    "print(f\"El array tridimensional es {array_random_3d}\")\n",
    "print(f\"La mediana del array tridimensional es {mediana}\")\n",
    "print(f\"El máximo del array tridimensional es {maximo}\")\n",
    "print(f\"El mínimo del array tridimensionalk es {minimo}\")\n",
    "print(f\"El resultado del array vacío es {array_resultado}\")"
   ]
  },
  {
   "cell_type": "markdown",
   "id": "83794704",
   "metadata": {},
   "source": [
    "#### Ejercicio 21 - Verificación de Filas y Columnas Iguales\n",
    "\n",
    "Crea un array bidimensional de dimensiones 4x4, escribe un código para determinar si alguna fila es exactamente igual a alguna columna.\n",
    "\n",
    "**Reglas:**\n",
    "\n",
    "- No puedes usar funciones predefinidas de NumPy para comparar filas y columnas (`np.array_equal`, etc.).\n",
    "\n",
    "- Debes resolverlo con estructuras básicas de Python (bucles, condicionales, etc.).\n",
    "\n",
    "- Debes revisar si hay al menos una fila que coincida exactamente con alguna columna.\n",
    "\n",
    "**Pistas**:\n",
    "\n",
    "- Puedes recorrer cada fila y cada columna de la matriz usando bucles.\n",
    "\n",
    "- Para comparar una fila con una columna, puedes hacerlo elemento por elemento."
   ]
  },
  {
   "cell_type": "code",
   "execution_count": 95,
   "id": "afd51c60",
   "metadata": {},
   "outputs": [
    {
     "name": "stdout",
     "output_type": "stream",
     "text": [
      "El array bidimensional 4x4 es  \n",
      "[[1 4 2 4]\n",
      " [4 1 2 2]\n",
      " [3 1 2 1]\n",
      " [2 1 1 3]]\n",
      "¿Una fila es exactamente igual a una columna? \n",
      "False\n"
     ]
    }
   ],
   "source": [
    "# Crear un array bidimensional 4x4\n",
    "matriz_4x4 = np.random.randint(1, 5, (4, 4))\n",
    "\n",
    "# Verificar si alguna fila es igual a alguna columna\n",
    "def fila_igual_columna(matriz):\n",
    "    filas, columnas = matriz.shape\n",
    "    for i in range(filas):  # Recorrer las filas\n",
    "        for j in range(columnas):  # Recorrer las columnas\n",
    "            # Comparar fila i con columna j elemento por elemento\n",
    "            if all(matriz[i, k] == matriz[k, j] for k in range(filas)):\n",
    "                return True  # Si coinciden, retornar True\n",
    "    return False  # Si no se encuentra ninguna coincidencia, retornar False\n",
    "\n",
    "resultado = fila_igual_columna(matriz_4x4)\n",
    "print(f\"El array bidimensional 4x4 es  \\n{matriz_4x4}\")\n",
    "print(f\"¿Una fila es exactamente igual a una columna? \\n{resultado}\")"
   ]
  }
 ],
 "metadata": {
  "kernelspec": {
   "display_name": "Python 3",
   "language": "python",
   "name": "python3"
  },
  "language_info": {
   "codemirror_mode": {
    "name": "ipython",
    "version": 3
   },
   "file_extension": ".py",
   "mimetype": "text/x-python",
   "name": "python",
   "nbconvert_exporter": "python",
   "pygments_lexer": "ipython3",
   "version": "3.12.4"
  }
 },
 "nbformat": 4,
 "nbformat_minor": 5
}
